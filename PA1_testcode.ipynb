{
 "cells": [
  {
   "cell_type": "code",
   "execution_count": 2,
   "metadata": {},
   "outputs": [],
   "source": [
    "import numpy as np\n",
    "import pandas as pd\n",
    "from sklearn.preprocessing import StandardScaler,MinMaxScaler\n",
    "from sklearn import preprocessing\n",
    "from sklearn.model_selection import train_test_split"
   ]
  },
  {
   "cell_type": "code",
   "execution_count": 3,
   "metadata": {},
   "outputs": [],
   "source": [
    "def scale(df):\n",
    "    scaler = StandardScaler()\n",
    "    scaler.fit(df)\n",
    "    #print(scaler.mean_)\n",
    "    return scaler.transform(df)"
   ]
  },
  {
   "cell_type": "code",
   "execution_count": 4,
   "metadata": {},
   "outputs": [],
   "source": [
    "def encode_values(df):\n",
    "    le = preprocessing.LabelEncoder()\n",
    "    le.fit(df)\n",
    "    print(len(le.classes_))\n",
    "    return le.transform(df)"
   ]
  },
  {
   "cell_type": "code",
   "execution_count": 5,
   "metadata": {},
   "outputs": [],
   "source": [
    "def preprocess(dataset):\n",
    "    for col in ['Geography']:\n",
    "        dataset[col] = encode_values(dataset[col].values)\n",
    "    dataset = dataset.drop(['CustomerId'],axis=1)\n",
    "    dataset = dataset.drop(['Surname'],axis=1)\n",
    "    dataset = dataset.drop(['Gender'],axis=1)\n",
    "    if 'Exited' in dataset.columns:\n",
    "        temp_dataset = scale(dataset.drop('Exited',axis=1).values)\n",
    "        new_dataset = pd.DataFrame(temp_dataset,columns=['CreditScore', 'Geography', 'Age', 'Tenure', 'Balance',\n",
    "               'NumOfProducts', 'HasCrCard', 'IsActiveMember', 'EstimatedSalary'])\n",
    "        new_dataset['Exited'] = dataset['Exited']\n",
    "    else:\n",
    "        temp_dataset = scale(dataset.values)\n",
    "        new_dataset = pd.DataFrame(temp_dataset,columns=['CreditScore', 'Geography', 'Age', 'Tenure', 'Balance',\n",
    "               'NumOfProducts', 'HasCrCard', 'IsActiveMember', 'EstimatedSalary'])\n",
    "    sample = new_dataset.sample(frac=1)\n",
    "    return sample"
   ]
  },
  {
   "cell_type": "code",
   "execution_count": 6,
   "metadata": {},
   "outputs": [
    {
     "name": "stdout",
     "output_type": "stream",
     "text": [
      "3\n"
     ]
    }
   ],
   "source": [
    "dataset = pd.read_csv('dataset.csv')\n",
    "train_dataset = preprocess(dataset)\n",
    "Y = train_dataset.Exited.values\n",
    "X = train_dataset.drop('Exited',axis=1).values\n",
    "X = X.reshape(X.shape[0],X.shape[1],1)\n",
    "Y = Y.reshape(Y.shape[0],1)"
   ]
  },
  {
   "cell_type": "code",
   "execution_count": 12,
   "metadata": {},
   "outputs": [],
   "source": [
    "np.random.seed(1234)\n",
    "np.seterr(over='ignore')\n",
    "\n",
    "class ArtificialNeuralNetwork():\n",
    "    def __init__(self):\n",
    "        np.random.seed(1)\n",
    "        self.weights = {}\n",
    "        self.num_layers = 1\n",
    "        self.adjustments = {}\n",
    "\n",
    "    def add_layer(self, shape):\n",
    "        self.weights[self.num_layers] = np.vstack((2 * np.random.random(shape) - 1, 2 * np.random.random((1, shape[1])) - 1))\n",
    "        self.adjustments[self.num_layers] = np.zeros(shape)\n",
    "        self.num_layers += 1\n",
    "\n",
    "    def __sigmoid(self, x):\n",
    "        x = np.clip(x,-20,20)\n",
    "        return 1 / (1 + np.exp(-x))\n",
    "\n",
    "    def __sigmoid_derivative(self, x):\n",
    "        return x * (1 - x)\n",
    "\n",
    "    def predict(self, data):\n",
    "        for layer in range(2, self.num_layers+1):\n",
    "            data = np.dot(data.T, self.weights[layer-1][:-1, :]) + self.weights[layer-1][ -1,:].T\n",
    "            data = self.__sigmoid(data).T\n",
    "        return data\n",
    "\n",
    "    def forward_propagate(self, data):\n",
    "        activation_values = {}\n",
    "        activation_values[1] = data\n",
    "        for layer in range(2, self.num_layers+1):\n",
    "            data = np.dot(data.T, self.weights[layer-1][:-1, :]) + self.weights[layer-1][-1, :].T # + self.biases[layer]\n",
    "            data = self.__sigmoid(data).T\n",
    "            activation_values[layer] = data\n",
    "        return activation_values\n",
    "\n",
    "    def simple_error(self, outputs, targets):\n",
    "        return outputs-targets\n",
    "\n",
    "    def sum_squared_error(self, outputs, targets):\n",
    "        return 0.5 * np.mean(np.sum(np.power(outputs - targets, 2), axis=1))\n",
    "    \n",
    "    def binaryentropy(self,outputs,targets):\n",
    "        return -(1.0/len(targets)) * np.sum(targets*np.log(outputs) + (1-targets)*np.log(1-outputs))\n",
    "\n",
    "    def __back_propagate(self, output, target):\n",
    "        deltas = {}\n",
    "        deltas[self.num_layers] = self.simple_error(output[self.num_layers],target)\n",
    "\n",
    "        # Delta of hidden Layers\n",
    "        for layer in reversed(range(2, self.num_layers)):  # All layers except input/output\n",
    "            a_val = output[layer]\n",
    "            weights = self.weights[layer][:-1, :]\n",
    "            prev_deltas = deltas[layer+1]\n",
    "            deltas[layer] = np.multiply(np.dot(weights, prev_deltas), self.__sigmoid_derivative(a_val))\n",
    "\n",
    "        # Caclculate total adjustements based on deltas\n",
    "        for layer in range(1, self.num_layers):\n",
    "            self.adjustments[layer] += np.dot(deltas[layer+1], output[layer].T).T\n",
    "\n",
    "    def __gradient_descente(self, batch_size, learning_rate):\n",
    "        # Calculate partial derivative and take a step in that direction\n",
    "        for layer in range(1, self.num_layers):\n",
    "            partial_d = (1/batch_size) * self.adjustments[layer]\n",
    "            self.weights[layer][:-1, :] += learning_rate * -partial_d\n",
    "            self.weights[layer][-1, :] += learning_rate *1e-3* -partial_d[-1, :]\n",
    "\n",
    "    def train(self, inputs, targets, num_epochs, learning_rate=0.01, stop_accuracy=1e-3):\n",
    "        error = []\n",
    "        for iteration in range(num_epochs):\n",
    "            for i in range(len(inputs)):\n",
    "                x = inputs[i]\n",
    "                y = targets[i]\n",
    "                # Pass the training set through our neural network\n",
    "                output = self.forward_propagate(x)\n",
    "\n",
    "                # Calculate the error\n",
    "                loss = self.sum_squared_error(output[self.num_layers], y)\n",
    "                error.append(loss)\n",
    "\n",
    "                # Calculate Adjustements\n",
    "                self.__back_propagate(output, y)\n",
    "\n",
    "            self.__gradient_descente(i, learning_rate)\n",
    "\n",
    "            # Check if accuarcy criterion is satisfied\n",
    "            if iteration > 0 and iteration %1000 == 0:\n",
    "                print( iteration,np.mean(np.abs(error[-(i+1):])))\n",
    "            if np.mean(np.abs(error[-(i+1):])) < stop_accuracy and iteration > 0:\n",
    "                print( iteration,np.mean(np.abs(error[-(i+1):])))\n",
    "\n",
    "        return(np.asarray(error), iteration+1)"
   ]
  },
  {
   "cell_type": "code",
   "execution_count": 13,
   "metadata": {},
   "outputs": [],
   "source": [
    "# Create instance of a neural network\n",
    "nn = ArtificialNeuralNetwork()\n",
    "nn.add_layer((9, 7))\n",
    "nn.add_layer((7, 5))\n",
    "nn.add_layer((5, 1))"
   ]
  },
  {
   "cell_type": "code",
   "execution_count": 14,
   "metadata": {},
   "outputs": [
    {
     "name": "stdout",
     "output_type": "stream",
     "text": [
      "(9000, 1) (9000, 9, 1)\n",
      "1000 0.08091833634075879\n",
      "2000 0.07395474045337237\n",
      "3000 0.06876141675726224\n",
      "4000 0.0691624085085026\n",
      "5000 0.06830072362992386\n",
      "6000 0.06921415646942225\n",
      "7000 0.06845587213263242\n",
      "8000 0.06887618720339578\n",
      "9000 0.0682674737526812\n",
      "Error =  0.08896786203155717\n",
      "Epoches needed to train =  10000\n"
     ]
    }
   ],
   "source": [
    "#Training Error\n",
    "training_data = X\n",
    "training_labels = Y\n",
    "print(training_labels.shape,training_data.shape)\n",
    "error, iteration = nn.train(training_data, training_labels,10000,learning_rate=0.005)\n",
    "print('Error = ', np.mean(np.abs(error[-4:])))\n",
    "print('Epoches needed to train = ', iteration)"
   ]
  },
  {
   "cell_type": "code",
   "execution_count": 15,
   "metadata": {},
   "outputs": [
    {
     "name": "stdout",
     "output_type": "stream",
     "text": [
      "3\n"
     ]
    }
   ],
   "source": [
    "test_dataset = pd.read_csv(\"judge.csv\")\n",
    "test_dataset = preprocess(test_dataset)\n",
    "X = test_dataset.values\n",
    "X = X.reshape(1000,9,1)"
   ]
  },
  {
   "cell_type": "code",
   "execution_count": 16,
   "metadata": {},
   "outputs": [],
   "source": [
    "testing_data = X\n",
    "output_testdata = []\n",
    "for i in range(len(testing_data)):\n",
    "    res = nn.predict(testing_data[i])[0]\n",
    "    if res[0] >= 0.5:\n",
    "        output_testdata.append(1)\n",
    "    elif res[0] < 0.5:\n",
    "        output_testdata.append(0)\n",
    "data = pd.read_csv('judge.csv')\n",
    "Result_dataframe = pd.DataFrame()\n",
    "Result_dataframe['CustomerId'] = data['CustomerId']\n",
    "Result_dataframe['Exited'] = output_testdata\n",
    "Result_dataframe.to_csv(\"judge-pred.csv\",index=False)"
   ]
  },
  {
   "cell_type": "code",
   "execution_count": null,
   "metadata": {},
   "outputs": [],
   "source": []
  }
 ],
 "metadata": {
  "kernelspec": {
   "display_name": "Python 3",
   "language": "python",
   "name": "python3"
  },
  "language_info": {
   "codemirror_mode": {
    "name": "ipython",
    "version": 3
   },
   "file_extension": ".py",
   "mimetype": "text/x-python",
   "name": "python",
   "nbconvert_exporter": "python",
   "pygments_lexer": "ipython3",
   "version": "3.6.5"
  }
 },
 "nbformat": 4,
 "nbformat_minor": 2
}
